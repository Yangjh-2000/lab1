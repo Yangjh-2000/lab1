{
 "cells": [
  {
   "cell_type": "code",
   "execution_count": 5,
   "metadata": {},
   "outputs": [],
   "source": [
    "import pymysql"
   ]
  },
  {
   "cell_type": "code",
   "execution_count": 6,
   "metadata": {},
   "outputs": [],
   "source": [
    "\n",
    " \n",
    "sql = '''\n",
    "CREATE TABLE IF NOT EXISTS mask (\n",
    "    id INT() AUTO_INCREMENT,\n",
    "    total INT() DEFAULT NULL,\n",
    "    city VARCHAR(20) DEFAULT NULL,\n",
    "    PRIMARY KEY (id)\n",
    ")ENGINE=InnoDB DEFAULT CHARSET=utf8;\n",
    "'''\n",
    "    \n"
   ]
  },
  {
   "cell_type": "code",
   "execution_count": 56,
   "metadata": {},
   "outputs": [],
   "source": [
    " def pymysql(sql):\n",
    "    import pymysql\n",
    "\n",
    "    # 打开数据库连接\n",
    "    # host 主机名， username 用户名， password 密码 ， dbname 数据库名 \n",
    "    db = pymysql.connect(\"remotemysql.com\",\"YsguHXDbeI\",\"lxa4qE92Gp\",\"YsguHXDbeI\" )\n",
    "\n",
    "    # 使用 cursor() 方法创建一个游标对象 cursor\n",
    "    cursor = db.cursor()\n",
    "    try: \n",
    "        # 使用 fetchone() 方法获取单条数据.\n",
    "        data = cursor.execute(sql)\n",
    "        db.commit()\n",
    "    except:\n",
    "        db.rollback()\n",
    "\n",
    "    #print (\"Database version : %s \" % data)\n",
    "\n",
    "    # 关闭数据库连接\n",
    "    db.close()"
   ]
  },
  {
   "cell_type": "code",
   "execution_count": 57,
   "metadata": {},
   "outputs": [],
   "source": [
    "sql = '''\n",
    "    INSERT INTO goods(house,money)\n",
    "    VALUES('撒旦士大夫','234234')\n",
    "    '''  \n",
    "pymysql(sql)"
   ]
  },
  {
   "cell_type": "code",
   "execution_count": 61,
   "metadata": {},
   "outputs": [],
   "source": [
    "import requests\n",
    "from lxml import etree\n",
    "\n",
    "#地址变量\n",
    "url = 'https://gz.lianjia.com/ershoufang/rs/'\n",
    "\n",
    "#获取url\n",
    "response = requests.get(url)\n",
    "\n",
    "html = etree.HTML(response.text)\n",
    "\n",
    "#解析（查找位置）\n",
    "xpath_house = \"//div[@class='title']//a/text()\"\n",
    "xpath_price = \"//div[@class='unitPrice']//span/text()\"\n",
    "\n",
    "result_price = html.xpath(xpath_price)\n",
    "\n",
    "result_house = html.xpath(xpath_house)\n",
    "\n",
    "sql = '''\n",
    "    INSERT INTO goods(house,money)\n",
    "    VALUES\n",
    "    '''    \n",
    "for i in range(20):\n",
    "    sql_all = sql +\"('\" + result_house[i]+\"','\"+result_price[i]+\"')\"\n",
    "    pymysql(sql_all)"
   ]
  },
  {
   "cell_type": "code",
   "execution_count": 60,
   "metadata": {},
   "outputs": [],
   "source": [
    "    pymysql(sql_all)\n",
    "    \n",
    "    "
   ]
  },
  {
   "cell_type": "code",
   "execution_count": 59,
   "metadata": {},
   "outputs": [
    {
     "name": "stdout",
     "output_type": "stream",
     "text": [
      "\n",
      "    INSERT INTO goods(house,money)\n",
      "    VALUES\n",
      "    ('南北通透采光好、户型方正宜居住、得房率高小两房','单价60976元/平米')\n"
     ]
    }
   ],
   "source": [
    "print(sql_all)"
   ]
  },
  {
   "cell_type": "code",
   "execution_count": 7,
   "metadata": {},
   "outputs": [
    {
     "name": "stdout",
     "output_type": "stream",
     "text": [
      "成功！\n"
     ]
    }
   ],
   "source": [
    "\n",
    "# 打开数据库连接\n",
    "# host 主机名， username 用户名， password 密码 ， dbname 数据库名 \n",
    "db = pymysql.connect(\"remotemysql.com\",\"LBVsCu3U7y\",\"GN1K2xZ1nL\",\"LBVsCu3U7y\" )\n",
    "\n",
    "# 使用 cursor() 方法创建一个游标对象 cursor\n",
    "cursor = db.cursor()\n",
    "try: \n",
    "    # 使用 fetchone() 方法获取单条数据.\n",
    "    data = cursor.execute(sql)\n",
    "    db.commit()\n",
    "except:\n",
    "    db.rollback()\n",
    "\n",
    "#print (\"Database version : %s \" % data)\n",
    "\n",
    "# 关闭数据库连接\n",
    "db.close()\n",
    "print(\"成功！\")"
   ]
  },
  {
   "cell_type": "code",
   "execution_count": null,
   "metadata": {},
   "outputs": [],
   "source": []
  }
 ],
 "metadata": {
  "kernelspec": {
   "display_name": "Python 3",
   "language": "python",
   "name": "python3"
  },
  "language_info": {
   "codemirror_mode": {
    "name": "ipython",
    "version": 3
   },
   "file_extension": ".py",
   "mimetype": "text/x-python",
   "name": "python",
   "nbconvert_exporter": "python",
   "pygments_lexer": "ipython3",
   "version": "3.7.0"
  }
 },
 "nbformat": 4,
 "nbformat_minor": 2
}
